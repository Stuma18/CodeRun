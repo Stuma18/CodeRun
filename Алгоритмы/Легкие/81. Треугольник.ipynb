{
 "cells": [
  {
   "cell_type": "markdown",
   "metadata": {},
   "source": [
    "## 81. Треугольник\n",
    "\n",
    "Даны три натуральных числа. Возможно ли построить треугольник с такими сторонами? Если это возможно, выведите строку YES, иначе выведите строку NO.\n",
    "\n",
    "Треугольник — это три точки, не лежащие на одной прямой.\n",
    "\n",
    "#### Формат ввода\n",
    "\n",
    "Вводятся три натуральных числа.\n",
    "\n",
    "#### Формат вывода\n",
    "\n",
    "Выведите ответ на задачу.\n",
    "\n",
    "#### Примеры\n",
    "\n",
    "Ввод\n",
    "3\n",
    "4\n",
    "5\n",
    "Вывод\n",
    "YES\n",
    "\n",
    "Ввод\n",
    "3\n",
    "5\n",
    "4\n",
    "Вывод\n",
    "YES\n",
    "\n",
    "Ввод\n",
    "4\n",
    "5\n",
    "3\n",
    "Вывод\n",
    "YES"
   ]
  },
  {
   "cell_type": "code",
   "execution_count": 6,
   "metadata": {},
   "outputs": [
    {
     "name": "stdout",
     "output_type": "stream",
     "text": [
      "NO\n"
     ]
    }
   ],
   "source": [
    "def main():\n",
    "    a = int(input())\n",
    "    b = int(input())\n",
    "    c = int(input())\n",
    "\n",
    "    if a + b > c and a + c > b and b + c > a and a > 0 and b > 0 and c > 0:\n",
    "        print('YES')\n",
    "    else:\n",
    "        print('NO')\n",
    "\n",
    "if __name__ == '__main__':\n",
    "    main()"
   ]
  }
 ],
 "metadata": {
  "kernelspec": {
   "display_name": "base",
   "language": "python",
   "name": "python3"
  },
  "language_info": {
   "codemirror_mode": {
    "name": "ipython",
    "version": 3
   },
   "file_extension": ".py",
   "mimetype": "text/x-python",
   "name": "python",
   "nbconvert_exporter": "python",
   "pygments_lexer": "ipython3",
   "version": "3.9.12"
  }
 },
 "nbformat": 4,
 "nbformat_minor": 2
}
