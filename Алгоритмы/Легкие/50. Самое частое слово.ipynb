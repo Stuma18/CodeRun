{
 "cells": [
  {
   "cell_type": "markdown",
   "metadata": {},
   "source": [
    "## 50. Самое частое слово\n",
    "\n",
    "Дан текст. Выведите слово, которое в этом тексте встречается чаще всего. Если таких слов несколько, выведите то, которое меньше в лексикографическом порядке.\n",
    "\n",
    "Напомним:\n",
    "\n",
    "Текст - произвольная последовательность символов.\n",
    "\n",
    "Слово - непустая последовательность непробельных символов, идущих подряд.\n",
    "\n",
    "#### Формат ввода\n",
    "\n",
    "Вводится текст.\n",
    "\n",
    "#### Формат вывода\n",
    "\n",
    "Выведите ответ на задачу.\n",
    "\n",
    "#### Примеры\n",
    "\n",
    "Ввод\n",
    "apple orange banana banana orange\n",
    "Вывод\n",
    "banana\n",
    "\n",
    "Ввод\n",
    "oh you touch my tralala mmm my ding ding dong\n",
    "Вывод\n",
    "ding\n",
    "\n",
    "Ввод\n",
    "q w e r t y u i o p\n",
    "a s d f g h j k l\n",
    "z x c v b n m\n",
    "Вывод\n",
    "a"
   ]
  },
  {
   "cell_type": "code",
   "execution_count": 10,
   "metadata": {},
   "outputs": [
    {
     "name": "stdout",
     "output_type": "stream",
     "text": [
      "ding\n"
     ]
    }
   ],
   "source": [
    "# выдает не правильный ответ на платформе\n",
    "def main():\n",
    "    d = {}\n",
    "    all_world = open('input.txt').read().split()\n",
    "\n",
    "    for world in all_world:\n",
    "        d[world] = d.get(world, -1) + 1\n",
    "\n",
    "    sorted_d = dict(sorted(d.items()))\n",
    "    print(max(sorted_d, key = sorted_d.get))\n",
    "\n",
    "if __name__ == '__main__':\n",
    "    main()"
   ]
  }
 ],
 "metadata": {
  "kernelspec": {
   "display_name": "base",
   "language": "python",
   "name": "python3"
  },
  "language_info": {
   "codemirror_mode": {
    "name": "ipython",
    "version": 3
   },
   "file_extension": ".py",
   "mimetype": "text/x-python",
   "name": "python",
   "nbconvert_exporter": "python",
   "pygments_lexer": "ipython3",
   "version": "3.9.12"
  }
 },
 "nbformat": 4,
 "nbformat_minor": 2
}
