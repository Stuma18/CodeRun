{
 "cells": [
  {
   "cell_type": "markdown",
   "metadata": {},
   "source": [
    "## 51. Номер появления слова\n",
    "\n",
    "Во входном файле (вы можете читать данные из файла input.txt) записан текст. Словом считается последовательность непробельных символов идущих подряд, слова разделены одним или большим числом пробелов или символами конца строки. Для каждого слова из этого текста подсчитайте, сколько раз оно встречалось в этом тексте ранее.\n",
    "\n",
    "#### Формат ввода\n",
    "\n",
    "Вводится текст.\n",
    "\n",
    "#### Формат вывода\n",
    "\n",
    "Выведите ответ на задачу.\n",
    "\n",
    "#### Примеры\n",
    "\n",
    "Ввод\n",
    "one two one tho three\n",
    "\n",
    "Вывод\n",
    "0 0 1 0 0 \n",
    "\n",
    "Ввод\n",
    "She sells sea shells on the sea shore;\n",
    "The shells that she sells are sea shells I'm sure.\n",
    "So if she sells sea shells on the sea shore,\n",
    "I'm sure that the shells are sea shore shells.\n",
    "\n",
    "Вывод\n",
    "0 0 0 0 0 0 1 0 0 1 0 0 1 0 2 2 0 0 0 0 1 2 3 3 1 1 4 0 1 0 1 2 4 1 5 0 0 \n",
    "\n",
    "Ввод\n",
    "aba aba; aba @?\"\n",
    "Вывод\n",
    "0 0 1 0 "
   ]
  },
  {
   "cell_type": "code",
   "execution_count": 4,
   "metadata": {},
   "outputs": [
    {
     "name": "stdout",
     "output_type": "stream",
     "text": [
      "0 0 1 0 0 "
     ]
    }
   ],
   "source": [
    "def main():\n",
    "    d = {}\n",
    "\n",
    "    for world in open('input.txt').read().split():\n",
    "        d[world] = d.get(world, -1) + 1\n",
    "        print(d[world], end = ' ')\n",
    "\n",
    "if __name__ == '__main__':\n",
    "    main()"
   ]
  }
 ],
 "metadata": {
  "kernelspec": {
   "display_name": "base",
   "language": "python",
   "name": "python3"
  },
  "language_info": {
   "codemirror_mode": {
    "name": "ipython",
    "version": 3
   },
   "file_extension": ".py",
   "mimetype": "text/x-python",
   "name": "python",
   "nbconvert_exporter": "python",
   "pygments_lexer": "ipython3",
   "version": "3.9.12"
  }
 },
 "nbformat": 4,
 "nbformat_minor": 2
}
