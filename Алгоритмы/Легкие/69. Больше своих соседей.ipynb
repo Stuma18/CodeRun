{
 "cells": [
  {
   "cell_type": "markdown",
   "metadata": {},
   "source": [
    "## 69 Больше своих соседей\n",
    "Дан список чисел. Определите, сколько в этом списке элементов, которые больше двух своих соседей. Выведите количество таких элементов.\n",
    "\n",
    "#### Формат ввода\n",
    "\n",
    "Вводится список чисел. Все числа списка находятся на одной строке.\n",
    "\n",
    "#### Формат вывода\n",
    "\n",
    "Выведите ответ на задачу.\n",
    "\n",
    "#### Примеры\n",
    "\n",
    "Ввод\n",
    "1 2 3 4 5\n",
    "Вывод\n",
    "0\n",
    "\n",
    "Ввод\n",
    "5 4 3 2 1\n",
    "Вывод\n",
    "0\n",
    "\n",
    "Ввод\n",
    "1 5 1 5 1\n",
    "Вывод\n",
    "2"
   ]
  },
  {
   "cell_type": "code",
   "execution_count": 4,
   "metadata": {},
   "outputs": [
    {
     "name": "stdout",
     "output_type": "stream",
     "text": [
      "0\n"
     ]
    }
   ],
   "source": [
    "import sys\n",
    "\n",
    "\n",
    "def main():\n",
    "    list_n = list(map(int, input().split()))\n",
    "\n",
    "    count = 0\n",
    "    for i in range(len(list_n) - 2):\n",
    "        if list_n[i + 1] > list_n[i] and list_n[i + 1] > list_n[i + 2]:\n",
    "            count += 1\n",
    "\n",
    "    print(count)\n",
    "\n",
    "if __name__ == '__main__':\n",
    "    main()"
   ]
  }
 ],
 "metadata": {
  "kernelspec": {
   "display_name": "base",
   "language": "python",
   "name": "python3"
  },
  "language_info": {
   "codemirror_mode": {
    "name": "ipython",
    "version": 3
   },
   "file_extension": ".py",
   "mimetype": "text/x-python",
   "name": "python",
   "nbconvert_exporter": "python",
   "pygments_lexer": "ipython3",
   "version": "3.9.12"
  }
 },
 "nbformat": 4,
 "nbformat_minor": 2
}
