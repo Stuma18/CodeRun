{
 "cells": [
  {
   "cell_type": "markdown",
   "metadata": {},
   "source": [
    "## 62 Количество различных чисел\n",
    "\n",
    "Дан список чисел, который может содержать до 100000 чисел. Определите, сколько в нём встречается различных чисел.\n",
    "\n",
    "#### Формат ввода\n",
    "\n",
    "Вводится список целых чисел. Все числа списка находятся на одной строке.\n",
    "\n",
    "#### Формат вывода\n",
    "\n",
    "Выведите ответ на задачу\n",
    "\n",
    "#### Примеры\n",
    "Ввод\n",
    "1 2 3 2 1\n",
    "Вывод\n",
    "3\n",
    "\n",
    "Ввод\n",
    "1 2 3 4 5 6 7 8 9 10\n",
    "Вывод\n",
    "10\n",
    "\n",
    "Ввод\n",
    "1 2 3 4 5 1 2 1 2 7 3\n",
    "Вывод\n",
    "6"
   ]
  },
  {
   "cell_type": "code",
   "execution_count": 3,
   "metadata": {},
   "outputs": [
    {
     "name": "stdout",
     "output_type": "stream",
     "text": [
      "6\n"
     ]
    }
   ],
   "source": [
    "def main():\n",
    "\n",
    "    list_n = list(map(int, input().split()))\n",
    "    new_list_n = list(set(list_n))\n",
    "    print(len(new_list_n))\n",
    "\n",
    "if __name__ == '__main__':\n",
    "    main()"
   ]
  }
 ],
 "metadata": {
  "kernelspec": {
   "display_name": "base",
   "language": "python",
   "name": "python3"
  },
  "language_info": {
   "codemirror_mode": {
    "name": "ipython",
    "version": 3
   },
   "file_extension": ".py",
   "mimetype": "text/x-python",
   "name": "python",
   "nbconvert_exporter": "python",
   "pygments_lexer": "ipython3",
   "version": "3.9.12"
  }
 },
 "nbformat": 4,
 "nbformat_minor": 2
}
