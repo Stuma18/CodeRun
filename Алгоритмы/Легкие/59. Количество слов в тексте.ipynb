{
 "cells": [
  {
   "cell_type": "markdown",
   "metadata": {},
   "source": [
    "## 59 Количество слов в тексте\n",
    "\n",
    "Во входном файле записан текст (вы можете читать данные из sys.stdin, подключив библиотеку sys). Словом считается последовательность непробельных символов идущих подряд, слова разделены одним или большим числом пробелов или символами конца строки. Определите, сколько различных слов содержится в этом тексте.\n",
    "\n",
    "#### Формат ввода\n",
    "\n",
    "Вводится текст.\n",
    "\n",
    "#### Формат вывода\n",
    "\n",
    "Выведите ответ на задачу.\n",
    "\n",
    "#### Пример\n",
    "Ввод\n",
    "\n",
    "She sells sea shells on the sea shore;\n",
    "The shells that she sells are sea shells I'm sure.\n",
    "So if she sells sea shells on the sea shore,\n",
    "I'm sure that the shells are sea shore shells.\n",
    "\n",
    "Вывод\n",
    "19"
   ]
  },
  {
   "cell_type": "code",
   "execution_count": null,
   "metadata": {},
   "outputs": [],
   "source": [
    "import sys\n",
    "def main():\n",
    "    print(len(set(list(sys.stdin.read().split()))))\n",
    "\n",
    "if __name__ == '__main__':\n",
    "    main()"
   ]
  }
 ],
 "metadata": {
  "kernelspec": {
   "display_name": "base",
   "language": "python",
   "name": "python3"
  },
  "language_info": {
   "codemirror_mode": {
    "name": "ipython",
    "version": 3
   },
   "file_extension": ".py",
   "mimetype": "text/x-python",
   "name": "python",
   "nbconvert_exporter": "python",
   "pygments_lexer": "ipython3",
   "version": "3.9.12"
  }
 },
 "nbformat": 4,
 "nbformat_minor": 2
}
