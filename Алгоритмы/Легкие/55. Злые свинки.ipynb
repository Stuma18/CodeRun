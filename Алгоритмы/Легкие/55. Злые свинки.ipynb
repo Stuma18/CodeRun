{
 "cells": [
  {
   "cell_type": "markdown",
   "metadata": {},
   "source": [
    "## 55. Злые свинки\n",
    "\n",
    "Вы никогда не задумывались, почему в Angry Birds у птиц нет крыльев? Тем же вопросом задались разработчики новой игры. В их версии смысл игры прямо противоположен Angry Birds: зеленая свинка стреляет по злым птицам из лазерного ружья (завязка явно не хуже исходной игры).\n",
    "\n",
    "Птицы в игре представляются точками на плоскости. Выстрел сбивает только ближайшую птицу находящуюся на линии огня. При этом сбитая птица, падая, сбивает всех птиц, находящихся ровно под ней. Две птицы не могут находиться в одной точке. По заданному расположению птиц необходимо определить, какое минимальное количество выстрелов необходимо, чтобы все птицы были сбиты.\n",
    "\n",
    "#### Формат ввода\n",
    "\n",
    "Первая строка входного файла содержит единственное целое число N (1 ≤ N ≤ 1000) — количество птиц.\n",
    "\n",
    "Следующие N строк содержат по два натуральных числа каждая xi, yi — координаты i-ой птицы (0 < x, y ≤ 10^9). Свинка находится в точке с координатами (0, 0).\n",
    "\n",
    "#### Формат вывода\n",
    "\n",
    "Единственная строка выходного файла должна содержать одно целое число — минимальное количество выстрелов, необходимое для того, чтобы сбить всех птиц.\n",
    "\n",
    "#### Примеры\n",
    "\n",
    "Ввод\n",
    "6\n",
    "1 1\n",
    "2 2\n",
    "3 3\n",
    "2 1\n",
    "3 2\n",
    "3 1\n",
    "Вывод\n",
    "3\n",
    "\n",
    "Ввод\n",
    "6\n",
    "1 1\n",
    "2 2\n",
    "3 3\n",
    "2 1\n",
    "3 2\n",
    "3 4\n",
    "Вывод\n",
    "3"
   ]
  },
  {
   "cell_type": "code",
   "execution_count": null,
   "metadata": {},
   "outputs": [],
   "source": [
    "def main():\n",
    "    N = int(input())\n",
    "    coordins = []\n",
    "    list_x = []\n",
    "    for _ in range(N):\n",
    "        num = list(map(int, input().split()))\n",
    "        list_x.append(num[0])\n",
    "        coordins.append(num)\n",
    "    \n",
    "    count_n = len(set(list_x))\n",
    "    not_replay = [x for x in coordins if coordins.count(x) == 1]\n",
    "    for k in not_replay:\n",
    "        coordins.remove(k)\n",
    "    i = 2\n",
    "    while len(coordins) > 0:\n",
    "        replay_i = [x for x in coordins if coordins.count(x) == i]\n",
    "        if len(replay_i) != 0:\n",
    "            count_n += (i - 1) * len(replay_i) / i\n",
    "            for k in replay_i:\n",
    "                coordins.remove(k)\n",
    "        i = i + 1\n",
    "\n",
    "    print(int(count_n))\n",
    "\n",
    "if __name__ == '__main__':\n",
    "    main()"
   ]
  }
 ],
 "metadata": {
  "kernelspec": {
   "display_name": "base",
   "language": "python",
   "name": "python3"
  },
  "language_info": {
   "codemirror_mode": {
    "name": "ipython",
    "version": 3
   },
   "file_extension": ".py",
   "mimetype": "text/x-python",
   "name": "python",
   "nbconvert_exporter": "python",
   "pygments_lexer": "ipython3",
   "version": "3.9.12"
  }
 },
 "nbformat": 4,
 "nbformat_minor": 2
}
