{
 "cells": [
  {
   "cell_type": "markdown",
   "metadata": {},
   "source": [
    "## 52. Словарь синонимов\n",
    "\n",
    "Вам дан словарь, состоящий из пар слов. Каждое слово является синонимом к парному ему слову. Все слова в словаре различны. Для одного данного слова определите его синоним.\n",
    "\n",
    "#### Формат ввода\n",
    "\n",
    "Программа получает на вход количество пар синонимов N. Далее следует N строк, каждая строка содержит ровно два слова-синонима. После этого следует одно слово.\n",
    "\n",
    "#### Формат вывода\n",
    "\n",
    "Программа должна вывести синоним к данному слову.\n",
    "\n",
    "#### Примечание\n",
    "\n",
    "Эту задачу можно решить и без словарей (сохранив все входные данные в списке), но решение со словарем будет более простым.\n",
    "\n",
    "#### Примеры\n",
    "\n",
    "Ввод\n",
    "3\n",
    "Hello Hi\n",
    "Bye Goodbye\n",
    "List Array\n",
    "Goodbye\n",
    "Вывод\n",
    "Bye\n",
    "\n",
    "Ввод\n",
    "1\n",
    "beep Car\n",
    "Car\n",
    "Вывод\n",
    "beep\n",
    "\n",
    "Ввод\n",
    "2\n",
    "Ololo Ololo\n",
    "Numbers 1234567890\n",
    "Numbers\n",
    "Вывод\n",
    "1234567890"
   ]
  },
  {
   "cell_type": "code",
   "execution_count": 22,
   "metadata": {},
   "outputs": [
    {
     "name": "stdout",
     "output_type": "stream",
     "text": [
      "Bye\n"
     ]
    }
   ],
   "source": [
    "def main():\n",
    "    N = int(input())\n",
    "    d = dict()\n",
    "    for i in range(N):\n",
    "        line = list(input().split())\n",
    "        d[line[0]] = line[1]\n",
    "\n",
    "    world = input()\n",
    "    sinonim = d.get(world)\n",
    "    if not sinonim:\n",
    "        sinonim = [key for key, val in d.items() if val == world]\n",
    "    print(''.join(sinonim))\n",
    "\n",
    "if __name__ == '__main__':\n",
    "    main()"
   ]
  }
 ],
 "metadata": {
  "kernelspec": {
   "display_name": "base",
   "language": "python",
   "name": "python3"
  },
  "language_info": {
   "codemirror_mode": {
    "name": "ipython",
    "version": 3
   },
   "file_extension": ".py",
   "mimetype": "text/x-python",
   "name": "python",
   "nbconvert_exporter": "python",
   "pygments_lexer": "ipython3",
   "version": "3.9.12"
  }
 },
 "nbformat": 4,
 "nbformat_minor": 2
}
