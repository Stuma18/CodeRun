{
 "cells": [
  {
   "cell_type": "markdown",
   "metadata": {},
   "source": [
    "## 57. Инопланетный геном\n",
    "\n",
    "Геном жителей системы Тау Кита содержит 26 видов оснований, для обозначения которых будем использовать буквы латинского алфавита от A до Z, а сам геном записывается строкой из латинских букв. Важную роль в геноме играют пары соседних оснований, например, в геноме «ABBACAB» можно выделить следующие пары оснований: AB, BB, BA, AC, CA, AB.\n",
    "\n",
    "Степенью близости одного генома другому геному называется количество пар соседних оснований первого генома, которые встречаются во втором геноме.\n",
    "\n",
    "Вам даны два генома, определите степень близости первого генома второму геному. Программа получает на вход две строки, состоящие из заглавных латинских букв. Каждая строка непустая, и её длина не превосходит 10^5.\n",
    "\n",
    "Программа должна вывести одно целое число – степень близости генома, записанного в первой строке, геному, записанному во второй строке.\n",
    "\n",
    "#### Примечание\n",
    "\n",
    "Следующие пары оснований первого генома встречаются во втором геноме: AB, BB, CA, AB. Обратите внимание на то, что пара AB в первом геноме встречается два раза, поэтому и подсчитана в ответе два раза.\n",
    "\n",
    "#### Пример\n",
    "\n",
    "Ввод\n",
    "ABBACAB\n",
    "BCABB\n",
    "Вывод\n",
    "4"
   ]
  },
  {
   "cell_type": "code",
   "execution_count": 1,
   "metadata": {},
   "outputs": [
    {
     "name": "stdout",
     "output_type": "stream",
     "text": [
      "{'BC', 'AB', 'BB', 'CA'}\n",
      "4\n"
     ]
    }
   ],
   "source": [
    "def main():\n",
    "    gen_1 = input()\n",
    "    gen_2 = input()\n",
    "        \n",
    "    para_2 = set()\n",
    "    for i in range(len(gen_2) - 1):\n",
    "        para_2.add(gen_2[i: i + 2])\n",
    "\n",
    "    count = 0\n",
    "    for i in range(len(gen_1) - 1):\n",
    "        if gen_1[i:i + 2] in para_2:\n",
    "            count += 1\n",
    "    print(count)\n",
    "\n",
    "if __name__ == '__main__':\n",
    "    main()"
   ]
  },
  {
   "cell_type": "code",
   "execution_count": 8,
   "metadata": {},
   "outputs": [],
   "source": [
    "# Слишком долго\n",
    "def main():\n",
    "    gen_1 = list(str(input()))\n",
    "    gen_2 = list(str(input()))\n",
    "\n",
    "    para_1 = []\n",
    "    for i in range(len(gen_1) - 1):\n",
    "        para_11 = gen_1[i] + gen_1[i + 1]\n",
    "        para_1.append(para_11)   \n",
    "        \n",
    "    para_2 = []\n",
    "    for i in range(len(gen_2) - 1):\n",
    "        para_21 = gen_2[i] + gen_2[i + 1]\n",
    "        para_2.append(para_21) \n",
    "\n",
    "    c = []\n",
    "    for i in para_1:\n",
    "        for j in para_2:\n",
    "            if i == j:\n",
    "                c.append(i)\n",
    "                break\n",
    "    print(len(c))\n",
    "\n",
    "if __name__ == '__main__':\n",
    "    main()"
   ]
  }
 ],
 "metadata": {
  "kernelspec": {
   "display_name": "base",
   "language": "python",
   "name": "python3"
  },
  "language_info": {
   "codemirror_mode": {
    "name": "ipython",
    "version": 3
   },
   "file_extension": ".py",
   "mimetype": "text/x-python",
   "name": "python",
   "nbconvert_exporter": "python",
   "pygments_lexer": "ipython3",
   "version": "3.9.12"
  }
 },
 "nbformat": 4,
 "nbformat_minor": 2
}
