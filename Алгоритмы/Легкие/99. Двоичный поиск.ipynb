{
 "cells": [
  {
   "cell_type": "markdown",
   "metadata": {},
   "source": [
    "## 99. Двоичный поиск\n",
    "\n",
    "Реализуйте двоичный поиск в массиве\n",
    "\n",
    "#### Формат ввода\n",
    "\n",
    "В первой строке входных данных содержатся натуральные числа N и K (0 < N, K≤ 100000). Во второй строке задаются N элементов первого массива, а в третьей строке – K элементов второго массива. Элементы обоих массивов - целые числа, каждое из которых по модулю не превосходит 10^9\n",
    "\n",
    "#### Формат вывода\n",
    "\n",
    "Требуется для каждого из K чисел вывести в отдельную строку \"YES\", если это число встречается в первом массиве, и \"NO\" в противном случае.\n",
    "\n",
    "#### Примеры\n",
    "\n",
    "Ввод\n",
    "10 10\n",
    "1 61 126 217 2876 6127 39162 98126 712687 1000000000 \n",
    "100 6127 1 61 200 -10000 1 217 10000 1000000000 \n",
    "Вывод\n",
    "NO\n",
    "YES\n",
    "YES\n",
    "YES\n",
    "NO\n",
    "NO\n",
    "YES\n",
    "YES\n",
    "NO\n",
    "YES\n",
    "\n",
    "Ввод\n",
    "10 10\n",
    "-8 -6 -4 -4 -2 -1 0 2 3 3 \n",
    "8 3 -3 -2 2 -1 2 9 -8 0 \n",
    "Вывод\n",
    "NO\n",
    "YES\n",
    "NO\n",
    "YES\n",
    "YES\n",
    "YES\n",
    "YES\n",
    "NO\n",
    "YES\n",
    "YES\n",
    "\n",
    "Ввод\n",
    "10 5\n",
    "1 2 3 4 5 6 7 8 9 10 \n",
    "-2 0 4 9 12 \n",
    "Вывод\n",
    "NO\n",
    "NO\n",
    "YES\n",
    "YES\n",
    "NO"
   ]
  },
  {
   "cell_type": "code",
   "execution_count": 4,
   "metadata": {},
   "outputs": [
    {
     "name": "stdout",
     "output_type": "stream",
     "text": [
      "NO\n",
      "NO\n",
      "YES\n",
      "YES\n",
      "NO\n"
     ]
    }
   ],
   "source": [
    "N, K = map(int, input().split())\n",
    "n_list = list(map(int, input().split()))\n",
    "k_list = list(map(int, input().split()))\n",
    "\n",
    "\n",
    "def bin_serch(lst, it):\n",
    "    start = 0\n",
    "    end = len(lst) - 1\n",
    "    while start <= end:\n",
    "        mid = int((start + end) / 2)\n",
    "        if lst[mid] == it:\n",
    "            return mid\n",
    "        if lst[mid] > it:\n",
    "            end = mid - 1\n",
    "        else:\n",
    "            start = mid + 1\n",
    "    \n",
    "    return None   \n",
    "\n",
    "\n",
    "for num in k_list:\n",
    "    if bin_serch(n_list, num) is None:\n",
    "        print('NO')\n",
    "    else:\n",
    "        print('YES')"
   ]
  }
 ],
 "metadata": {
  "kernelspec": {
   "display_name": "base",
   "language": "python",
   "name": "python3"
  },
  "language_info": {
   "codemirror_mode": {
    "name": "ipython",
    "version": 3
   },
   "file_extension": ".py",
   "mimetype": "text/x-python",
   "name": "python",
   "nbconvert_exporter": "python",
   "pygments_lexer": "ipython3",
   "version": "3.9.12"
  }
 },
 "nbformat": 4,
 "nbformat_minor": 2
}
