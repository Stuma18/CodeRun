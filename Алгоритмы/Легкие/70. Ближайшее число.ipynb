{
 "cells": [
  {
   "cell_type": "markdown",
   "metadata": {},
   "source": [
    "## 70 Ближайшее число\n",
    "\n",
    "Напишите программу, которая находит в массиве элемент, самый близкий по величине к данному числу.\n",
    "\n",
    "#### Формат ввода\n",
    "\n",
    "В первой строке задается одно натуральное число N, не превосходящее 1000 – размер массива. Во второй строке содержатся N чисел – элементы массива (целые числа, не превосходящие по модулю 1000). В третьей строке вводится одно целое число x, не превосходящее по модулю 1000.\n",
    "\n",
    "#### Формат вывода\n",
    "\n",
    "Вывести значение элемента массива, ближайшее к x. Если таких чисел несколько, выведите любое из них.\n",
    "\n",
    "#### Примеры\n",
    "\n",
    "Ввод\n",
    "5\n",
    "1 2 3 4 5\n",
    "6\n",
    "Вывод\n",
    "5\n",
    "\n",
    "Ввод\n",
    "5\n",
    "5 4 3 2 1\n",
    "3\n",
    "Вывод\n",
    "3"
   ]
  },
  {
   "cell_type": "code",
   "execution_count": 8,
   "metadata": {},
   "outputs": [
    {
     "name": "stdout",
     "output_type": "stream",
     "text": [
      "3\n"
     ]
    }
   ],
   "source": [
    "import sys\n",
    "\n",
    "\n",
    "def main():\n",
    "    N = int(input())\n",
    "    numbers_str = input()\n",
    "    # Разделение строки на числа\n",
    "    numbers = [int(y) for y in numbers_str.split()]\n",
    "    x = int(input())\n",
    "    \n",
    "    dif1 = 10000000000\n",
    "    for i in range(N):\n",
    "        dif2 = abs(numbers[i] - x)\n",
    "        if dif2 < dif1:\n",
    "            dif1 = dif2\n",
    "            el = numbers[i]\n",
    "\n",
    "    print(el)  \n",
    "\n",
    "\n",
    "if __name__ == '__main__':\n",
    "    main()"
   ]
  }
 ],
 "metadata": {
  "kernelspec": {
   "display_name": "base",
   "language": "python",
   "name": "python3"
  },
  "language_info": {
   "codemirror_mode": {
    "name": "ipython",
    "version": 3
   },
   "file_extension": ".py",
   "mimetype": "text/x-python",
   "name": "python",
   "nbconvert_exporter": "python",
   "pygments_lexer": "ipython3",
   "version": "3.9.12"
  }
 },
 "nbformat": 4,
 "nbformat_minor": 2
}
