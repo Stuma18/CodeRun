{
 "cells": [
  {
   "cell_type": "markdown",
   "metadata": {},
   "source": [
    "## 65 Наибольшее произведение трех чисел\n",
    "В данном массиве из n целых чисел найдите три числа, произведение которых максимально.\n",
    "\n",
    "#### Формат ввода\n",
    "\n",
    "В единственной строке расположено n (3 ≤ n ≤ 10^5) чисел ai (−10^6 ≤ ai ≤ 10^6) - элементы массива.\n",
    "\n",
    "#### Формат вывода\n",
    "\n",
    "Выведите три элемента массива, дающих наибольшее произведение, в любом порядке.\n",
    "\n",
    "#### Примеры\n",
    "Ввод\n",
    "3 5 1 7 9 0 9 -3 10\n",
    "Вывод\n",
    "10 9 9\n",
    "\n",
    "Ввод\n",
    "-5 -30000 -12\n",
    "Вывод\n",
    "-5 -12 -30000\n",
    "\n",
    "Ввод\n",
    "1 2 3\n",
    "Вывод\n",
    "3 2 1"
   ]
  },
  {
   "cell_type": "code",
   "execution_count": 3,
   "metadata": {},
   "outputs": [
    {
     "name": "stdout",
     "output_type": "stream",
     "text": [
      "1 2 3\n"
     ]
    }
   ],
   "source": [
    "import sys\n",
    "\n",
    "\n",
    "def main():\n",
    "    list_n = list(map(int, input().split()))\n",
    "    list_n.sort()    \n",
    "    if list_n[0] * list_n[1] * list_n[-1] > list_n[-1] * list_n[-2] * list_n[-3]:\n",
    "        print(list_n[0], list_n[1], list_n[-1])\n",
    "    else:\n",
    "        print(list_n[-3], list_n[-2], list_n[-1])\n",
    "        \n",
    "\n",
    "if __name__ == '__main__':\n",
    "    main()"
   ]
  }
 ],
 "metadata": {
  "kernelspec": {
   "display_name": "base",
   "language": "python",
   "name": "python3"
  },
  "language_info": {
   "codemirror_mode": {
    "name": "ipython",
    "version": 3
   },
   "file_extension": ".py",
   "mimetype": "text/x-python",
   "name": "python",
   "nbconvert_exporter": "python",
   "pygments_lexer": "ipython3",
   "version": "3.9.12"
  }
 },
 "nbformat": 4,
 "nbformat_minor": 2
}
