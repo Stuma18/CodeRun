{
 "cells": [
  {
   "cell_type": "markdown",
   "metadata": {},
   "source": [
    "## 74 Узник замка ИФ\n",
    "\n",
    "За многие годы заточения узник замка Иф проделал в стене прямоугольное отверстие размером D × E. Замок Иф сложен из кирпичей, размером A × B × C. Определите, сможет ли узник выбрасывать кирпичи в море через это отверстие, если стороны кирпича должны быть параллельны сторонам отверстия.\n",
    "\n",
    "#### Формат ввода\n",
    "\n",
    "Программа получает на вход числа A, B, C, D, E (1 ≤ A, B, C, D, E ≤ 10^4).\n",
    "\n",
    "#### Формат вывода\n",
    "\n",
    "Программа должна вывести слово YES или NO.\n",
    "\n",
    "#### Примеры\n",
    "Ввод \n",
    "1\n",
    "1\n",
    "1\n",
    "1\n",
    "1\n",
    "Вывод\n",
    "YES\n",
    "\n",
    "Ввод \n",
    "2\n",
    "2\n",
    "2\n",
    "1\n",
    "1\n",
    "Вывод\n",
    "NO"
   ]
  },
  {
   "cell_type": "code",
   "execution_count": null,
   "metadata": {},
   "outputs": [],
   "source": [
    "import sys\n",
    "\n",
    "\n",
    "def main():\n",
    "    A = float(input())\n",
    "    B = float(input())\n",
    "    C = float(input())\n",
    "    D = float(input())\n",
    "    E = float(input())\n",
    "\n",
    "    sizes = [A, B, C]\n",
    "    sizes.sort()\n",
    "\n",
    "    if (D >= sizes[0] and E >= sizes[1]) or (D >= sizes[1] and E >= sizes[0]):\n",
    "        print('YES')\n",
    "    else:\n",
    "        print('NO')\n",
    "\n",
    "\n",
    "if __name__ == '__main__':\n",
    "    main()"
   ]
  }
 ],
 "metadata": {
  "kernelspec": {
   "display_name": "base",
   "language": "python",
   "name": "python3"
  },
  "language_info": {
   "codemirror_mode": {
    "name": "ipython",
    "version": 3
   },
   "file_extension": ".py",
   "mimetype": "text/x-python",
   "name": "python",
   "nbconvert_exporter": "python",
   "pygments_lexer": "ipython3",
   "version": "3.9.12"
  }
 },
 "nbformat": 4,
 "nbformat_minor": 2
}
