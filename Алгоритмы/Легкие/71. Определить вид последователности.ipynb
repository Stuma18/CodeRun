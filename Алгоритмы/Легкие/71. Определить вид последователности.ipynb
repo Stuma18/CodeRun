{
 "cells": [
  {
   "cell_type": "markdown",
   "metadata": {},
   "source": [
    "## 71 Определить вид последовательности\n",
    "\n",
    "По последовательности чисел во входных данных определите ее вид:\n",
    "1. CONSTANT — последовательность состоит из одинаковых значений\n",
    "2. ASCENDING — последовательность является строго возрастающей\n",
    "\n",
    "3. WEAKLY ASCENDING — последовательность является нестрого возрастающей\n",
    "\n",
    "4. DESCENDING — последовательность является строго убывающей\n",
    "\n",
    "5. WEAKLY DESCENDING — последовательность является нестрого убывающей\n",
    "\n",
    "6. RANDOM — последовательность не принадлежит ни к одному из вышеупомянутых типов\n",
    "\n",
    "#### Формат ввода\n",
    "\n",
    "По одному на строке поступают числа последовательности ai, ∣ai∣ ≤ 10^9.\n",
    "Признаком окончания последовательности является число −2×10^9. Оно в последовательность не входит.\n",
    "\n",
    "#### Формат вывода\n",
    "\n",
    "В единственной строке выведите тип последовательности.\n",
    "\n",
    "#### Пример\n",
    "\n",
    "Ввод\n",
    "-530\n",
    "-530\n",
    "-530\n",
    "-530\n",
    "-530\n",
    "-530\n",
    "-2000000000\n",
    "Вывод\n",
    "CONSTANT"
   ]
  },
  {
   "cell_type": "code",
   "execution_count": 15,
   "metadata": {},
   "outputs": [
    {
     "name": "stdout",
     "output_type": "stream",
     "text": [
      "CONSTANT\n"
     ]
    }
   ],
   "source": [
    "import sys\n",
    "\n",
    "\n",
    "def main():\n",
    "    const = 0\n",
    "    ascen = 0\n",
    "    descen = 0\n",
    "\n",
    "\n",
    "    x1 = float(input())\n",
    "    while x1 != -2000000000:\n",
    "        x2 = float(input())\n",
    "        if x1 < x2:\n",
    "            ascen += 1\n",
    "        elif x1 > x2:\n",
    "            descen += 1\n",
    "        elif x1 == x2:\n",
    "            const += 1\n",
    "        x1 = x2\n",
    "\n",
    "    descen -= 1\n",
    "\n",
    "    if const != 0 and ascen == 0 and descen == 0:\n",
    "        print('CONSTANT')\n",
    "    elif ascen != 0 and const == 0 and descen == 0:\n",
    "        print('ASCENDING')\n",
    "    elif ascen != 0 and const != 0 and descen == 0:\n",
    "        print('WEAKLY ASCENDING')\n",
    "    elif descen != 0 and const == 0 and ascen == 0:\n",
    "        print('DESCENDING')\n",
    "    elif descen != 0 and const != 0 and ascen == 0 :\n",
    "        print('WEAKLY DESCENDING')\n",
    "    elif ascen != 0 and descen != 0:\n",
    "        print('RANDOM')\n",
    "\n",
    "\n",
    "if __name__ == '__main__':\n",
    "    main()"
   ]
  }
 ],
 "metadata": {
  "kernelspec": {
   "display_name": "base",
   "language": "python",
   "name": "python3"
  },
  "language_info": {
   "codemirror_mode": {
    "name": "ipython",
    "version": 3
   },
   "file_extension": ".py",
   "mimetype": "text/x-python",
   "name": "python",
   "nbconvert_exporter": "python",
   "pygments_lexer": "ipython3",
   "version": "3.9.12"
  }
 },
 "nbformat": 4,
 "nbformat_minor": 2
}
