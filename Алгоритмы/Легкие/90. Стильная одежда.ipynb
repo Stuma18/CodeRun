{
 "cells": [
  {
   "cell_type": "markdown",
   "metadata": {},
   "source": [
    "## 90. Стильная одежда\n",
    "\n",
    "Глеб обожает шоппинг. Как-то раз он загорелся идеей подобрать себе майку и штаны так, чтобы выглядеть в них максимально стильно. В понимании Глеба стильность одежды тем больше, чем меньше разница в цвете элементов его одежды.\n",
    "\n",
    "В наличии имеется N (1 ≤ N ≤ 100 000) маек и M (1 ≤ M ≤ 100 000) штанов, про каждый элемент известен его цвет (целое число от 1 до 10 000 000). Помогите Глебу выбрать одну майку и одни штаны так, чтобы разница в их цвете была как можно меньше.\n",
    "\n",
    "#### Формат ввода\n",
    "\n",
    "Сначала вводится информация о майках: в первой строке целое число N (1 ≤ N ≤ 100 000) и во второй N целых чисел от 1 до 10 000 000 — цвета имеющихся в наличии маек. Гарантируется, что номера цветов идут в возрастающем порядке (в частности, цвета никаких двух маек не совпадают).\n",
    "\n",
    "Далее в том же формате идёт описание штанов: их количество M (1 ≤ M ≤ 100 000) и в следующей строке M целых чисел от 1 до 10 000 000 в возрастающем порядке — цвета штанов.\n",
    "\n",
    "#### Формат вывода\n",
    "\n",
    "Выведите пару неотрицательных чисел — цвет майки и цвет штанов, которые следует выбрать Глебу. Если вариантов выбора несколько, выведите любой из них.\n",
    "\n",
    "#### Примеры\n",
    "\n",
    "Ввод\n",
    "2\n",
    "3 4\n",
    "3\n",
    "1 2 3\n",
    "Вывод\n",
    "3 3\n",
    "\n",
    "Ввод\n",
    "2\n",
    "4 5\n",
    "3\n",
    "1 2 3\n",
    "Вывод\n",
    "4 3\n",
    "\n",
    "Ввод\n",
    "5\n",
    "1 2 3 4 5\n",
    "5\n",
    "1 2 3 4 5\n",
    "Вывод\n",
    "1 1"
   ]
  },
  {
   "cell_type": "code",
   "execution_count": 4,
   "metadata": {},
   "outputs": [
    {
     "name": "stdout",
     "output_type": "stream",
     "text": [
      "1 1\n"
     ]
    }
   ],
   "source": [
    "# превышен лимит по памяти\n",
    "from itertools import product\n",
    "\n",
    "N = int(input())\n",
    "list_n = list(map(int, input().split()))\n",
    "M = int(input())\n",
    "list_m = list(map(int, input().split()))\n",
    "\n",
    "answer = sorted(product(list_n, list_m), key=lambda t: abs(t[0]-t[1]))[0]\n",
    "print(*answer)"
   ]
  },
  {
   "cell_type": "code",
   "execution_count": 8,
   "metadata": {},
   "outputs": [
    {
     "name": "stdout",
     "output_type": "stream",
     "text": [
      "1 1\n"
     ]
    }
   ],
   "source": [
    "def main():\n",
    "    N = int(input())\n",
    "    list_n = list(map(int, input().split()))\n",
    "    M = int(input())\n",
    "    list_m = list(map(int, input().split()))\n",
    "\n",
    "    i = 0\n",
    "    j = 0\n",
    "    a = 0\n",
    "    b = 0\n",
    "    minimum = abs(list_n[i] - list_m[j])\n",
    "    while i < N and j < M:\n",
    "        if abs(list_n[i] - list_m[j]) == 0:\n",
    "            a, b = i, j\n",
    "            break\n",
    "        \n",
    "        if abs(list_n[i] - list_m[j]) < minimum:\n",
    "            minimum = abs(list_n[i] - list_m[j])\n",
    "            a, b = i, j\n",
    "            \n",
    "        if list_n[i] < list_m[j]:\n",
    "            i += 1\n",
    "        \n",
    "        else:\n",
    "            j += 1\n",
    "\n",
    "    print(list_n[a], list_m[b])\n",
    "\n",
    "if __name__ == '__main__':\n",
    "    main()"
   ]
  }
 ],
 "metadata": {
  "kernelspec": {
   "display_name": "base",
   "language": "python",
   "name": "python3"
  },
  "language_info": {
   "codemirror_mode": {
    "name": "ipython",
    "version": 3
   },
   "file_extension": ".py",
   "mimetype": "text/x-python",
   "name": "python",
   "nbconvert_exporter": "python",
   "pygments_lexer": "ipython3",
   "version": "3.9.12"
  }
 },
 "nbformat": 4,
 "nbformat_minor": 2
}
