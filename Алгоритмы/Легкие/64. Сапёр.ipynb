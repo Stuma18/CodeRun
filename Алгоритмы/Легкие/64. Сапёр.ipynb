{
 "cells": [
  {
   "cell_type": "markdown",
   "metadata": {},
   "source": [
    "## 64 Сапёр\n",
    "\n",
    "Вам необходимо построить поле для игры «Сапер» по его конфигурации — размерам и координатам расставленных на нём мин.\n",
    "\n",
    "Вкратце напомним правила построения поля для игры «Сапер»:\n",
    "\n",
    "1. Поле состоит из клеток с минами и пустых клеток\n",
    "\n",
    "2. Клетки с миной обозначаются символом *\n",
    "\n",
    "3. Пустые клетки содержат число ki,j, 0 ≤ ki,j ≤8 — количество мин на соседних клетках. Соседними клетками являются восемь клеток, имеющих смежный угол или сторону.\n",
    "\n",
    "#### Формат ввода\n",
    "\n",
    "В первой строке содержатся три числа: N, 1 ≤ N ≤ 100 - количество строк на поле, M, 1 ≤ M ≤ 100 - количество столбцов на поле, K, 0 ≤ K ≤ N⋅M - количество мин на поле.\n",
    "\n",
    "В следующих K строках содержатся по два числа с координатами мин: p, 1 ≤ p ≤ N - номер строки мины, q, 1 ≤ q ≤ M - номер столбца мины.\n",
    "\n",
    "#### Формат вывода\n",
    "\n",
    "Выведите построенное поле, разделяя строки поля переводом строки, а столбцы - пробелом.\n",
    "\n",
    "#### Примеры\n",
    "Ввод\n",
    "3 2 2\n",
    "1 1\n",
    "2 2\n",
    "Вывод \n",
    "* 2\n",
    "2 *\n",
    "1 1\n",
    "\n",
    "Ввод\n",
    "2 2 0\n",
    "Вывод\n",
    "0 0\n",
    "0 0\n",
    "\n",
    "Ввод\n",
    "4 4 4\n",
    "1 3\n",
    "2 1\n",
    "4 2\n",
    "4 4\n",
    "Вывод\n",
    "1 2 * 1 \n",
    "* 2 1 1 \n",
    "2 2 2 1 \n",
    "1 * 2 * "
   ]
  },
  {
   "cell_type": "code",
   "execution_count": 40,
   "metadata": {},
   "outputs": [
    {
     "name": "stdout",
     "output_type": "stream",
     "text": [
      "1 2 * 1\n",
      "* 2 1 1\n",
      "2 2 2 1\n",
      "1 * 2 *\n"
     ]
    }
   ],
   "source": [
    "N, M, K = map(int, input().split())\n",
    "matrix = [[0] * M for _ in range(N)]\n",
    "\n",
    "def change_matrix(x, y):\n",
    "    coords = [(x-1,y+1),(x,y+1),(x+1,y+1),(x+1,y),(x+1,y-1),(x,y-1),(x-1,y-1),(x-1,y)]\n",
    "    for i,j in coords:\n",
    "        if i < 0 or j < 0 or i > N-1 or j > M-1:\n",
    "            continue\n",
    "        if matrix[i][j] == '*':\n",
    "            continue\n",
    "        matrix[i][j] += 1\n",
    "\n",
    "for i in range(K):\n",
    "    x, y = map(int, input().split())\n",
    "    x -= 1\n",
    "    y -= 1\n",
    "    matrix[x][y] = '*'\n",
    "    change_matrix(x, y)\n",
    "\n",
    "for i in matrix:\n",
    "    print(*i)\n",
    "    "
   ]
  },
  {
   "cell_type": "code",
   "execution_count": 46,
   "metadata": {},
   "outputs": [
    {
     "name": "stdout",
     "output_type": "stream",
     "text": [
      "1 2 * 1\n",
      "* 2 1 1\n",
      "2 2 2 1\n",
      "1 * 2 *\n"
     ]
    }
   ],
   "source": [
    "import sys\n",
    "\n",
    "\n",
    "def main():\n",
    "    N, M, K = map(int, input().split())\n",
    "    matrix = [[0] * M for _ in range(N)]\n",
    "\n",
    "    def change_matrix(x, y):\n",
    "        coords = [(x-1,y+1),(x,y+1),(x+1,y+1),(x+1,y),(x+1,y-1),(x,y-1),(x-1,y-1),(x-1,y)]\n",
    "        for i,j in coords:\n",
    "            if i >= 0 and j >= 0 and i <= N-1 and j <= M-1:\n",
    "                if matrix[i][j] != '*':\n",
    "                    matrix[i][j] += 1\n",
    "\n",
    "    for i in range(K):\n",
    "        x, y = map(int, input().split())\n",
    "        x -= 1\n",
    "        y -= 1\n",
    "        matrix[x][y] = '*'\n",
    "        change_matrix(x, y)\n",
    "\n",
    "    for i in matrix:\n",
    "        print(*i)\n",
    "\n",
    "if __name__ == '__main__':\n",
    "    main()"
   ]
  }
 ],
 "metadata": {
  "kernelspec": {
   "display_name": "base",
   "language": "python",
   "name": "python3"
  },
  "language_info": {
   "codemirror_mode": {
    "name": "ipython",
    "version": 3
   },
   "file_extension": ".py",
   "mimetype": "text/x-python",
   "name": "python",
   "nbconvert_exporter": "python",
   "pygments_lexer": "ipython3",
   "version": "3.9.12"
  }
 },
 "nbformat": 4,
 "nbformat_minor": 2
}
