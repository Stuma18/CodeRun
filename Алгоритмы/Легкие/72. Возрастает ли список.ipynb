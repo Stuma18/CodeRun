{
 "cells": [
  {
   "cell_type": "markdown",
   "metadata": {},
   "source": [
    "## 72 Возрастает ли список?\n",
    "\n",
    "Дан список. Определите, является ли он монотонно возрастающим (то есть верно ли, что каждый элемент этого списка больше предыдущего).\n",
    "\n",
    "Выведите YES, если массив монотонно возрастает и NO в противном случае.\n",
    "\n",
    "#### Примеры\n",
    "\n",
    "Ввод\n",
    "1 7 9 \n",
    "Вывод\n",
    "YES\n",
    "\n",
    "Ввод\n",
    "1 9 7 \n",
    "Вывод\n",
    "NO\n",
    "\n",
    "Ввод\n",
    "2 2 2\n",
    "Вывод\n",
    "NO"
   ]
  },
  {
   "cell_type": "code",
   "execution_count": 1,
   "metadata": {},
   "outputs": [],
   "source": [
    "import sys\n",
    "\n",
    "\n",
    "def main():\n",
    "    list_n = list(map(int, input().split()))\n",
    "    yes = 0\n",
    "    no = 0\n",
    "    for i in range(len(list_n) - 1):\n",
    "        num1 = list_n[i]\n",
    "        num2 = list_n[i + 1]\n",
    "        if num1 < num2:\n",
    "            yes += 1\n",
    "        else:\n",
    "            no += 1\n",
    "    \n",
    "    if no != 0:\n",
    "        print('NO')\n",
    "    else:\n",
    "        print('YES')\n",
    "\n",
    "\n",
    "if __name__ == '__main__':\n",
    "    main()"
   ]
  }
 ],
 "metadata": {
  "kernelspec": {
   "display_name": "base",
   "language": "python",
   "name": "python3"
  },
  "language_info": {
   "codemirror_mode": {
    "name": "ipython",
    "version": 3
   },
   "file_extension": ".py",
   "mimetype": "text/x-python",
   "name": "python",
   "nbconvert_exporter": "python",
   "pygments_lexer": "ipython3",
   "version": "3.9.12"
  }
 },
 "nbformat": 4,
 "nbformat_minor": 2
}
