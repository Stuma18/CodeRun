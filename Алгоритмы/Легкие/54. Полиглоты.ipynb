{
 "cells": [
  {
   "cell_type": "markdown",
   "metadata": {},
   "source": [
    "## 54. Полиглоты\n",
    "\n",
    "Каждый из N школьников некоторой школы знает Mi языков. Определите, какие языки знают все школьники и языки, которые знает хотя бы один из школьников.\n",
    "\n",
    "#### Формат ввода\n",
    "\n",
    "Первая строка входных данных содержит количество школьников N. Далее идет N чисел Mi, после каждого из чисел идет Mi строк, содержащих названия языков, которые знает i-й школьник. Длина названий языков не превышает 1000 символов, количество различных языков не более 1000. 1 ≤ N ≤ 1000, 1 ≤ Mi≤500.\n",
    "\n",
    "#### Формат вывода\n",
    "\n",
    "В первой строке выведите количество языков, которые знают все школьники. Начиная со второй строки - список таких языков. Затем - количество языков, которые знает хотя бы один школьник, на следующих строках - список таких языков.\n",
    "\n",
    "#### Пример\n",
    "\n",
    "Ввод\n",
    "3\n",
    "3\n",
    "Russian\n",
    "English\n",
    "Japanese\n",
    "2\n",
    "Russian\n",
    "English\n",
    "1\n",
    "English\n",
    "Вывод\n",
    "1\n",
    "English\n",
    "3\n",
    "Russian\n",
    "Japanese\n",
    "English"
   ]
  },
  {
   "cell_type": "code",
   "execution_count": null,
   "metadata": {},
   "outputs": [],
   "source": [
    "def main():\n",
    "    N = int(input())\n",
    "    lang_union = set()\n",
    "    lang_intersect = set()\n",
    "    for i in range(N):\n",
    "        M = int(input())\n",
    "        language = {input() for j in range(M)}\n",
    "        if i != 0:\n",
    "            lang_union &= language # выводит пересечение cur_set и lang_union\n",
    "        else:\n",
    "            lang_union = language\n",
    "        lang_intersect |= language # выводит объединение cur_set и lang_intersect\n",
    "\n",
    "    print(len(lang_union))\n",
    "    print('\\n'.join(lang_union))\n",
    "\n",
    "    print(len(lang_intersect))\n",
    "    print('\\n'.join(lang_intersect))\n",
    "\n",
    "if __name__ == '__main__':\n",
    "    main()"
   ]
  },
  {
   "cell_type": "code",
   "execution_count": null,
   "metadata": {},
   "outputs": [],
   "source": [
    "# Слишком долго\n",
    "\n",
    "def main():\n",
    "    N = int(input())\n",
    "    language = []\n",
    "    for _ in range(N):\n",
    "        M = int(input())\n",
    "        for _ in range(M):\n",
    "            language.append(input())\n",
    "\n",
    "    replay = [x for x in language if language.count(x) == N]\n",
    "    print(len(set(replay)))\n",
    "    for el in set(replay):\n",
    "        print(el)\n",
    "    print(len(set(language)))\n",
    "    for el in set(language):\n",
    "        print(el)\n",
    "\n",
    "if __name__ == '__main__':\n",
    "    main()"
   ]
  }
 ],
 "metadata": {
  "kernelspec": {
   "display_name": "base",
   "language": "python",
   "name": "python3"
  },
  "language_info": {
   "codemirror_mode": {
    "name": "ipython",
    "version": 3
   },
   "file_extension": ".py",
   "mimetype": "text/x-python",
   "name": "python",
   "nbconvert_exporter": "python",
   "pygments_lexer": "ipython3",
   "version": "3.9.12"
  }
 },
 "nbformat": 4,
 "nbformat_minor": 2
}
