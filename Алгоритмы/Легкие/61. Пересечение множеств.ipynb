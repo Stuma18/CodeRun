{
 "cells": [
  {
   "cell_type": "markdown",
   "metadata": {},
   "source": [
    "## 61 Пересечение множеств\n",
    "\n",
    "Даны два списка чисел, которые могут содержать до 10000 чисел каждый. Выведите все числа, которые входят как в первый, так и во второй список в порядке возрастания.\n",
    "\n",
    "#### Формат ввода\n",
    "\n",
    "Вводятся два списка целых чисел. Все числа каждого списка находятся на отдельной строке.\n",
    "\n",
    "#### Формат вывода\n",
    "\n",
    "Выведите ответ на задачу.\n",
    "\n",
    "#### Примечание\n",
    "\n",
    "Эту задачу на Питоне можно решить в одну строчку.\n",
    "\n",
    "#### Примеры\n",
    "Ввод\n",
    "1 3 2\n",
    "4 3 2\n",
    "Вывод\n",
    "2 3\n",
    "\n",
    "Ввод\n",
    "1 2 6 4 5 7\n",
    "10 2 3 4 8\n",
    "Вывод\n",
    "2 4"
   ]
  },
  {
   "cell_type": "code",
   "execution_count": 1,
   "metadata": {},
   "outputs": [
    {
     "name": "stdout",
     "output_type": "stream",
     "text": [
      "2 4\n"
     ]
    }
   ],
   "source": [
    "def main():\n",
    "\n",
    "    list_1 = list(map(int, input().split()))\n",
    "    list_2 = list(map(int, input().split()))\n",
    "    \n",
    "    print(*sorted(set(list_1) & set(list_2)))\n",
    "\n",
    "if __name__ == '__main__':\n",
    "    main()"
   ]
  }
 ],
 "metadata": {
  "kernelspec": {
   "display_name": "base",
   "language": "python",
   "name": "python3"
  },
  "language_info": {
   "codemirror_mode": {
    "name": "ipython",
    "version": 3
   },
   "file_extension": ".py",
   "mimetype": "text/x-python",
   "name": "python",
   "nbconvert_exporter": "python",
   "pygments_lexer": "ipython3",
   "version": "3.9.12"
  }
 },
 "nbformat": 4,
 "nbformat_minor": 2
}
