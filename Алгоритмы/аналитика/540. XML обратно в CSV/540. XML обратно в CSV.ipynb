{
 "cells": [
  {
   "cell_type": "code",
   "execution_count": 4,
   "metadata": {},
   "outputs": [
    {
     "name": "stdout",
     "output_type": "stream",
     "text": [
      "CSV файл 'train_data.csv' успешно создан.\n"
     ]
    }
   ],
   "source": [
    "import xml.etree.ElementTree as ET\n",
    "\n",
    "def xml_to_csv(xml_file, csv_file):\n",
    "    \"\"\"Конвертирует XML-файл в CSV-файл.\"\"\"\n",
    "\n",
    "    tree = ET.parse(xml_file)\n",
    "    root = tree.getroot()\n",
    "\n",
    "    # Определяем названия полей из XML\n",
    "    # Это нужно адаптировать под вашу структуру XML\n",
    "    headers = [child.tag for child in root[0]]  \n",
    "\n",
    "    with open(csv_file, 'w', encoding='utf-8') as f:\n",
    "        # Записываем заголовок CSV\n",
    "        f.write(','.join(headers) + '\\n')\n",
    "\n",
    "        # Записываем данные из XML\n",
    "        for row in root:\n",
    "            row_data = [child.text for child in row]\n",
    "            f.write(','.join(row_data) + '\\n')\n",
    "\n",
    "# Пример использования:\n",
    "xml_file = 'train_data.xml'  # Замените на имя вашего XML-файла\n",
    "csv_file = 'train_data.csv'  # Замените на желаемое имя CSV-файла\n",
    "xml_to_csv(xml_file, csv_file)\n",
    "\n",
    "print(f\"CSV файл '{csv_file}' успешно создан.\")"
   ]
  },
  {
   "cell_type": "code",
   "execution_count": 5,
   "metadata": {},
   "outputs": [
    {
     "name": "stdout",
     "output_type": "stream",
     "text": [
      "CSV file 'name_00_00.csv' created successfully.\n"
     ]
    }
   ],
   "source": [
    "import xml.etree.ElementTree as ET\n",
    "import csv\n",
    "\n",
    "tree = ET.parse(\"train_data.xml\")\n",
    "root = tree.getroot()\n",
    "\n",
    "results = []\n",
    "for region in root.findall(\"username\"):\n",
    "    region_id = int(region.get(\"1_1\"))\n",
    "    for day in region.findall(\"1_2\"):\n",
    "        for participant in day.findall(\"2_1\"):\n",
    "            login = participant.get(\"2_2\")\n",
    "            total_score = int(participant.get(\"score\"))\n",
    "            results.append((region_id, login, total_score))\n",
    "\n",
    "results.sort(key=lambda x: (-x[2], x[1]))\n",
    "\n",
    "with open(\"name_00_00.csv\", \"w\", newline=\"\", encoding=\"utf-8\") as csvfile:\n",
    "    writer = csv.writer(csvfile)\n",
    "    writer.writerow([\"username\", \"1_1\", \"1_2\", \"2_1\" , \"2_2\", \"score\"])\n",
    "    writer.writerows(results)\n",
    "\n",
    "print(\"CSV file 'name_00_00.csv' created successfully.\")"
   ]
  },
  {
   "cell_type": "code",
   "execution_count": null,
   "metadata": {},
   "outputs": [],
   "source": [
    "username,1_1,1_2,2_1,2_2,score"
   ]
  }
 ],
 "metadata": {
  "kernelspec": {
   "display_name": "Python 3",
   "language": "python",
   "name": "python3"
  },
  "language_info": {
   "codemirror_mode": {
    "name": "ipython",
    "version": 3
   },
   "file_extension": ".py",
   "mimetype": "text/x-python",
   "name": "python",
   "nbconvert_exporter": "python",
   "pygments_lexer": "ipython3",
   "version": "3.12.5"
  }
 },
 "nbformat": 4,
 "nbformat_minor": 2
}
