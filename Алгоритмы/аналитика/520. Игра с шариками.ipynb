{
 "cells": [
  {
   "cell_type": "markdown",
   "metadata": {},
   "source": [
    "## 520. Игра с шариками\n",
    "\n",
    "Есть три мешочка: в первом 1 белый шар, 1 чёрный, во втором - 2 белых, 1 чёрный, в третьем - 6 белых и 1 чёрный. На каждом шаге из каждого мешочка вытаскивается по одному шару; если все три белых, то игра заканчивается; если хотя бы один из трёх чёрный, то вытащенные шары возвращаются обратно в мешочки, в каждый из них добавляется по одному чёрному шару, и указанный процесс повторяется (снова вытаскивается по одному шару из каждого мешочка и т.д.) Какова вероятность, что игра продлится не более nn шагов?\n",
    "\n",
    "### Формат ввода\n",
    "Одно целое число nn, 1 ≤ n ≤ 10^9\n",
    "\n",
    "### Формат вывода\n",
    "Два неотрицательных целых числа p и q таких, что p/q - несократимая дробь, равная вероятности, что игра продлится не более n шагов.\n",
    "\n",
    "### Пример 1\n",
    "Ввод\n",
    "1\n",
    "Вывод\n",
    "2 7\n",
    "\n",
    "### Пример 2\n",
    "Ввод\n",
    "5\n",
    "Вывод\n",
    "5 11"
   ]
  },
  {
   "cell_type": "code",
   "execution_count": 30,
   "metadata": {},
   "outputs": [
    {
     "name": "stdout",
     "output_type": "stream",
     "text": [
      "297830061404766078576429 595660158524139293576429\n"
     ]
    }
   ],
   "source": [
    "from fractions import Fraction\n",
    "N = int(input())\n",
    "\n",
    "pn = Fraction(2, 7)\n",
    "if N == 1:\n",
    "    print(pn.numerator, pn.denominator)\n",
    "\n",
    "else:\n",
    "    if N <= 10000:\n",
    "        n = 2\n",
    "        while n <= N:\n",
    "            p2 = Fraction(12, (1+n) * (2+n) * (6+n))\n",
    "            pn = pn + (1 - pn) * p2\n",
    "            n += 1\n",
    "        \n",
    "        print(pn.numerator, pn.denominator)\n",
    "\n",
    "    else:\n",
    "        n = 10001\n",
    "        while n <= N:\n",
    "            pn = Fraction(25017500, 50035003)\n",
    "            p2 = Fraction(12, (1+n) * (2+n) * (6+n))\n",
    "            pn = pn + (1 - pn) * p2\n",
    "            n += 1\n",
    "        \n",
    "        print(pn.numerator, pn.denominator)"
   ]
  },
  {
   "cell_type": "code",
   "execution_count": 26,
   "metadata": {},
   "outputs": [
    {
     "name": "stdout",
     "output_type": "stream",
     "text": [
      "8340834 16681669\n"
     ]
    }
   ],
   "source": [
    "from fractions import Fraction\n",
    "N = int(input())\n",
    "\n",
    "pn = Fraction(2, 7)\n",
    "if N == 1:\n",
    "    print(pn.numerator, pn.denominator)\n",
    "\n",
    "else:\n",
    "    n = 2\n",
    "    while n <= N:\n",
    "        p2 = Fraction(12, (1+n) * (2+n) * (6+n))\n",
    "        pn = pn + (1 - pn) * p2\n",
    "        n += 1\n",
    "    \n",
    "    print(pn.numerator, pn.denominator)"
   ]
  },
  {
   "cell_type": "code",
   "execution_count": null,
   "metadata": {},
   "outputs": [],
   "source": [
    "10000000"
   ]
  },
  {
   "cell_type": "code",
   "execution_count": 22,
   "metadata": {},
   "outputs": [
    {
     "data": {
      "text/plain": [
       "Fraction(1, 8)"
      ]
     },
     "execution_count": 22,
     "metadata": {},
     "output_type": "execute_result"
    }
   ],
   "source": [
    "n = 2\n",
    "p2 = Fraction(12, (1+n) * (2+n) * (6+n))\n",
    "p2"
   ]
  }
 ],
 "metadata": {
  "kernelspec": {
   "display_name": "Python 3",
   "language": "python",
   "name": "python3"
  },
  "language_info": {
   "codemirror_mode": {
    "name": "ipython",
    "version": 3
   },
   "file_extension": ".py",
   "mimetype": "text/x-python",
   "name": "python",
   "nbconvert_exporter": "python",
   "pygments_lexer": "ipython3",
   "version": "3.12.5"
  }
 },
 "nbformat": 4,
 "nbformat_minor": 2
}
