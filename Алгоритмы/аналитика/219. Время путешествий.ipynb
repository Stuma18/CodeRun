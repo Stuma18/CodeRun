{
 "cells": [
  {
   "cell_type": "markdown",
   "metadata": {},
   "source": [
    "## 219. Время путешествий\n",
    "\n",
    "Путешественник Вася выбирает время для поездки в новую страну. Вася считает, что отпуск удался, если за время поездки температура в стране поднялась, причём чем сильнее она поднимется к отъезду относительно момента приезда, тем лучше.\n",
    "\n",
    "Дан прогноз погоды на некоторый период вперёд, нужно указать изменение температуры за лучший для Васи период и лучшие даты (номера дней) приезда и отъезда. Если лучших вариантов несколько, то укажите номера дней самой короткой поездки с ближайшей датой окончания.\n",
    "\n",
    "### Формат ввода\n",
    "В единственной строке записаны целые числа, разделённые пробелом − ожидаемая температура в каждый из дней.\n",
    "\n",
    "Количество дней не превыщает 10000, температура везде положительна и не превышает 45 градусов.\n",
    "\n",
    "### Формат вывода\n",
    "3 числа, разделённые пробелом: изменение температуры за оптимальный период, номер дня приезда, номер дня отъезда (нумерация дней от 0). Гарантируется, что при оптимальном выборе поездки температура увеличится.\n",
    "\n",
    "### Пример 1\n",
    "Ввод\n",
    "3 4 1 6\n",
    "Вывод\n",
    "5 2 3"
   ]
  },
  {
   "cell_type": "code",
   "execution_count": 9,
   "metadata": {},
   "outputs": [
    {
     "name": "stdout",
     "output_type": "stream",
     "text": [
      "40 0 1\n"
     ]
    }
   ],
   "source": [
    "temp = list(map(int, input().split()))\n",
    "\n",
    "b_start = -1\n",
    "b_end = -1\n",
    "b_diff = -1\n",
    "\n",
    "\n",
    "for i in range(len(temp) - 1):\n",
    "    max_t = max(temp[i+1:])\n",
    "    diff = max_t - temp[i]\n",
    "    if b_diff < diff:\n",
    "        b_diff = diff\n",
    "        b_start = i\n",
    "        index = temp[i+1:].index(max_t)\n",
    "        b_end = index + 1 + i\n",
    "    elif b_diff == diff:\n",
    "        b_start_2 = i\n",
    "        index = temp[i+1:].index(max_t)\n",
    "        b_end_2 = index + 1 + i\n",
    "        if (b_end_2 - b_start_2) < (b_end - b_start):\n",
    "            b_end = b_end_2\n",
    "            b_start = b_start_2\n",
    "        elif b_end_2 - b_start_2 == b_end - b_start:\n",
    "            b_start = min(b_start, b_start_2)\n",
    "            b_end = min(b_end, b_end_2)\n",
    "\n",
    "\n",
    "print(b_diff, b_start, b_end)"
   ]
  }
 ],
 "metadata": {
  "kernelspec": {
   "display_name": "Python 3",
   "language": "python",
   "name": "python3"
  },
  "language_info": {
   "codemirror_mode": {
    "name": "ipython",
    "version": 3
   },
   "file_extension": ".py",
   "mimetype": "text/x-python",
   "name": "python",
   "nbconvert_exporter": "python",
   "pygments_lexer": "ipython3",
   "version": "3.12.5"
  }
 },
 "nbformat": 4,
 "nbformat_minor": 2
}
