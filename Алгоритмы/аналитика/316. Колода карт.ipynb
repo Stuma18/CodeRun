{
 "cells": [
  {
   "cell_type": "markdown",
   "metadata": {},
   "source": [
    "## 316. Колода карт\n",
    "\n",
    "Из хорошо перетасованной полной колоды карт (от двоек до тузов, 4 масти, всего 52 карты) вам выдают 6 карт подряд. С какой вероятностью выданные карты в сумме дают 21 очко? Считайте, что валет — это 11 очков, дама — 12 очков, король — 13 очков, туз — 14 очков. Число очков для остальных карт совпадает с их номиналом.\n",
    "\n",
    "Ответ округлите до шестого знака после точки.\n",
    "\n",
    "### Формат вывода\n",
    "Число от 0 до 1 с шестью знаками после точки. Пример формата ответа: 0.123456"
   ]
  },
  {
   "cell_type": "markdown",
   "metadata": {},
   "source": [
    "Пусть $X$ — случайная величина, представляющая сумму очков на шести выданных картах.\n",
    "Нам нужно найти вероятность $P(X=21)$. Полное число способов выбрать 6 карт из 52 равно $\\binom{52}{6}$.\n",
    "\n",
    "Этот код перебирает все возможные комбинации из 6 карт и считает, сколько из них дают сумму 21. Затем он делит это число на общее число комбинаций, чтобы получить вероятность."
   ]
  },
  {
   "cell_type": "code",
   "execution_count": 1,
   "metadata": {},
   "outputs": [
    {
     "name": "stdout",
     "output_type": "stream",
     "text": [
      "Вероятность: 0.000227\n"
     ]
    }
   ],
   "source": [
    "import itertools\n",
    "\n",
    "ranks = [2, 3, 4, 5, 6, 7, 8, 9, 10, 11, 12, 13, 14]  # 2-10, J, Q, K, A\n",
    "suits = ['C', 'D', 'H', 'S']  # Clubs, Diamonds, Hearts, Spades\n",
    "deck = [(rank, suit) for rank in ranks for suit in suits]\n",
    "\n",
    "count = 0\n",
    "for combination in itertools.combinations(deck, 6):\n",
    "    total = sum([card[0] for card in combination])\n",
    "    if total == 21:\n",
    "        count += 1\n",
    "\n",
    "probability = count / len(list(itertools.combinations(deck, 6)))\n",
    "print(f\"Вероятность: {probability:.6f}\")"
   ]
  }
 ],
 "metadata": {
  "kernelspec": {
   "display_name": "Python 3",
   "language": "python",
   "name": "python3"
  },
  "language_info": {
   "codemirror_mode": {
    "name": "ipython",
    "version": 3
   },
   "file_extension": ".py",
   "mimetype": "text/x-python",
   "name": "python",
   "nbconvert_exporter": "python",
   "pygments_lexer": "ipython3",
   "version": "3.12.5"
  }
 },
 "nbformat": 4,
 "nbformat_minor": 2
}
